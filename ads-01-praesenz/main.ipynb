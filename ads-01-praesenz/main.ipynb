{
 "cells": [
  {
   "cell_type": "code",
   "execution_count": 18,
   "source": [
    "import os\r\n",
    "import pandas as pd\r\n",
    "import seaborn as sns\r\n",
    "import numpy as np\r\n",
    "\r\n",
    "\r\n",
    "%matplotlib inline\r\n",
    "\r\n",
    "INPUT_FILE = os.path.join(\"input\", \"titanic.csv\")\r\n",
    "REPORT_FILE = os.path.join(\"output\",\"report.html\")\r\n",
    "GENERATE_REPORT = False\r\n",
    "\r\n",
    "raw_data = pd.read_csv(INPUT_FILE)\r\n",
    "raw_data.head()\r\n",
    "\r\n",
    "#from pandas_profiling import ProfileReport\r\n",
    "\r\n",
    "#profile = ProfileReport(raw_data)\r\n",
    "#profile.to_file(REPORT_FILE)\r\n",
    "\r\n",
    "\r\n",
    "#Counting People in different classes\r\n",
    "data = raw_data.copy()\r\n",
    "data[\"alive\"] = data[\"survived\"].map({0: False, 1: True})\r\n",
    "data[\"survived\"].value_counts()\r\n",
    "\r\n",
    "data[\"class\"] = data[\"pclass\"].astype(pd.CategoricalDtype(ordered=True))\r\n",
    "data[\"class\"] = data[\"class\"].map({1: 'first', 2: 'second', 3: 'third'})\r\n",
    "\r\n",
    "data[\"class\"].value_counts(sort=False)\r\n",
    "\r\n",
    "# Data manipulation of Cabin data\r\n",
    "data[\"cabin\"].value_counts()\r\n",
    "data[\"deck\"] = data[\"cabin\"].str[\"0\"]\r\n",
    "data[\"deck\"].value_counts()\r\n",
    "\r\n",
    "x = \"B96 B98\"\r\n",
    "x[0:3]\r\n",
    "\r\n"
   ],
   "outputs": [
    {
     "output_type": "execute_result",
     "data": {
      "text/plain": [
       "Series([], Name: deck, dtype: int64)"
      ]
     },
     "metadata": {},
     "execution_count": 18
    }
   ],
   "metadata": {}
  }
 ],
 "metadata": {
  "orig_nbformat": 4,
  "language_info": {
   "name": "python",
   "version": "3.9.6",
   "mimetype": "text/x-python",
   "codemirror_mode": {
    "name": "ipython",
    "version": 3
   },
   "pygments_lexer": "ipython3",
   "nbconvert_exporter": "python",
   "file_extension": ".py"
  },
  "kernelspec": {
   "name": "python3",
   "display_name": "Python 3.9.6 64-bit (windows store)"
  },
  "interpreter": {
   "hash": "24901a63d322f39b9039cf04f7963789d024ff4b793e178cf78e8d6c6e811f0b"
  }
 },
 "nbformat": 4,
 "nbformat_minor": 2
}