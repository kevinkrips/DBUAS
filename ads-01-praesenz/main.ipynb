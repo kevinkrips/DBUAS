{
 "cells": [
  {
   "cell_type": "code",
   "execution_count": null,
   "source": [
    "Titanik Datensatz\r\n",
    "\r\n",
    "import os\r\n",
    "import pandas as pd\r\n",
    "import seaborn as sns\r\n",
    "import numpy as np\r\n",
    "\r\n",
    "%matlablib inline\r\n",
    "\r\n",
    "INPUT_FILE 0 os.path.join(\"input\")\r\n"
   ],
   "outputs": [],
   "metadata": {}
  }
 ],
 "metadata": {
  "orig_nbformat": 4,
  "language_info": {
   "name": "python"
  }
 },
 "nbformat": 4,
 "nbformat_minor": 2
}