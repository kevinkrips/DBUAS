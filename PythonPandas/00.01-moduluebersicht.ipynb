{
 "cells": [
  {
   "cell_type": "markdown",
   "metadata": {},
   "source": [
    "<img style=\"width:30%; float:right\" src=\"images/dbu_logo.png\">\n",
    "\n",
    "# Modulübersicht DSBA.02"
   ]
  },
  {
   "cell_type": "markdown",
   "metadata": {},
   "source": [
    "\n",
    "\n",
    "**Python:**\n",
    "\n",
    "- **Hauptlektüre (Python):** [Al Sweigart (2015): _Automate the Boring Stuff with Python : Practical Programming for Total Beginners_](https://ebookcentral.proquest.com/lib/dbuas/reader.action?docID=4503140)\n",
    "- Vertiefende Einführung für Jupyter [Dan Toomey (2017): _Jupyter for Data Science_](https://ebookcentral.proquest.com/lib/dbuas/reader.action?docID=5110697)\n",
    "- [Eric Matthes (2019): _Python Crash Course_, 2nd Edition](https://ebookcentral.proquest.com/lib/dbuas/reader.action?docID=5774153)\n",
    "- [Paul Gries, Jennifer Campbell und Jason Montojo (2017): _Practical Programming : An Introduction to Computer Science Using Python 3. 6_](https://ebookcentral.proquest.com/lib/dbuas/reader.action?docID=5307665)\n",
    "\n",
    "\n",
    "**Data Science in Python (Pandas):**\n",
    "\n",
    "\n",
    "- **Hauptlektüre (Pandas):** [Jake VanderPlas (2016): _Python Data Science Handbook : Essential Tools for Working with Data_](https://ebookcentral.proquest.com/lib/dbuas/reader.action?docID=4746657)\n",
    "- Vertiefung zu Feature Engineering: [Alice Zheng und Amanda Casari (2018): _Feature Engineering for Machine Learning: Principles and Techniques for Data Scientists_](https://ebookcentral.proquest.com/lib/dbuas/reader.action?docID=5328406)\n",
    "- Veriefunt zu Machine Learning und AI: [Aurélien Géron (2017): _Hands-On Machine Learning with Scikit-Learn and TensorFlow: Concepts, Tools, and Techniques to Build Intelligent Systems_](https://ebookcentral.proquest.com/lib/dbuas/reader.action?docID=4822582)\n",
    "- Vertiefung zur Statistik mit Python: [Peter Bruce und Andrew Bruce (2017): _Practical Statistics for Data Scientists : 50 Essential Concepts_](https://ebookcentral.proquest.com/lib/dbuas/reader.action?docID=4857224)\n",
    "- [Dmitry Zinoviev (2016): _Data Science Essentials in Python: Collect - Organize - Explore - Predict - Value_](https://ebookcentral.proquest.com/lib/dbuas/reader.action?docID=5307316)\n",
    "- [Joel Grus (2019): _Data Science from Scratch: First Principles with Python_](https://ebookcentral.proquest.com/lib/dbuas/reader.action?docID=5750897)\n",
    "- [Paul Gries, Jennifer Campbell und Jason Montojo (2017): _Practical Programming : An Introduction to Computer Science Using Python 3. 6_](https://ebookcentral.proquest.com/lib/dbuas/reader.action?docID=5307665)"
   ]
  },
  {
   "cell_type": "code",
   "execution_count": null,
   "metadata": {},
   "outputs": [],
   "source": []
  }
 ],
 "metadata": {
  "kernelspec": {
   "display_name": "Python 3",
   "language": "python",
   "name": "python3"
  },
  "language_info": {
   "codemirror_mode": {
    "name": "ipython",
    "version": 3
   },
   "file_extension": ".py",
   "mimetype": "text/x-python",
   "name": "python",
   "nbconvert_exporter": "python",
   "pygments_lexer": "ipython3",
   "version": "3.7.3"
  }
 },
 "nbformat": 4,
 "nbformat_minor": 2
}
