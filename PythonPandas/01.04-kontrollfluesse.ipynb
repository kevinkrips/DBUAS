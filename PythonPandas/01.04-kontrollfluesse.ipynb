{
 "cells": [
  {
   "cell_type": "markdown",
   "metadata": {},
   "source": [
    "<img style=\"width:30%; float:right\" src=\"images/dbu_logo.png\">\n",
    "\n",
    "# Kontrollstrukturen\n",
    "\n",
    "Ein wesentliches Merkmal von Computerprogrammen ist die Datenflüsse zu kontrollieren bzw. zu steuern. In diesem Notebook schauen wir uns Bedingungen (`if`) und einfache Schleifen (`for` und `while`) an.\n",
    "\n",
    "**Literaturempfehlung:**\n",
    "\n",
    "Kapitel 2 von [Al Sweigart (2015): _Automate the Boring Stuff with Python_](https://ebookcentral.proquest.com/lib/dbuas/reader.action?docID=4503140)"
   ]
  },
  {
   "cell_type": "markdown",
   "metadata": {},
   "source": [
    "## Bedingungen\n",
    "\n",
    "Vergleichsoperatoren: `<`, `<=`, `==`, `>=`, `>`, `!=`.\n",
    "\n",
    "Wichtig: `==` für Vergleiche, nicht nur `=`.\n",
    "\n",
    "`!=` steht für \"ungleich\".\n",
    "\n",
    "Mit `and` und `or` können wir Bedingungen zusammensetzen.\n",
    "\n",
    "Mit `not` drehen wir den Wahrheitswert einer Bedingung um."
   ]
  },
  {
   "cell_type": "code",
   "execution_count": 1,
   "metadata": {},
   "outputs": [],
   "source": [
    "x = 1\n",
    "y = 2\n",
    "z = 1"
   ]
  },
  {
   "cell_type": "code",
   "execution_count": 2,
   "metadata": {},
   "outputs": [
    {
     "data": {
      "text/plain": [
       "False"
      ]
     },
     "execution_count": 2,
     "metadata": {},
     "output_type": "execute_result"
    }
   ],
   "source": [
    "x > y"
   ]
  },
  {
   "cell_type": "code",
   "execution_count": 3,
   "metadata": {},
   "outputs": [
    {
     "data": {
      "text/plain": [
       "True"
      ]
     },
     "execution_count": 3,
     "metadata": {},
     "output_type": "execute_result"
    }
   ],
   "source": [
    "x == z"
   ]
  },
  {
   "cell_type": "code",
   "execution_count": 4,
   "metadata": {},
   "outputs": [
    {
     "data": {
      "text/plain": [
       "False"
      ]
     },
     "execution_count": 4,
     "metadata": {},
     "output_type": "execute_result"
    }
   ],
   "source": [
    "(x > y) and (x == z)"
   ]
  },
  {
   "cell_type": "code",
   "execution_count": 5,
   "metadata": {},
   "outputs": [
    {
     "data": {
      "text/plain": [
       "True"
      ]
     },
     "execution_count": 5,
     "metadata": {},
     "output_type": "execute_result"
    }
   ],
   "source": [
    "(x > y) or (x == z)"
   ]
  },
  {
   "cell_type": "code",
   "execution_count": 6,
   "metadata": {},
   "outputs": [
    {
     "data": {
      "text/plain": [
       "True"
      ]
     },
     "execution_count": 6,
     "metadata": {},
     "output_type": "execute_result"
    }
   ],
   "source": [
    "not False"
   ]
  },
  {
   "cell_type": "markdown",
   "metadata": {},
   "source": [
    "## if statement\n",
    "\n",
    "Grundstruktur:\n",
    "\n",
    "- `if` für die erste Bedingung.\n",
    "- `elif` (optional) für weitere Bedingungen.\n",
    "- `else` (optional) für alle bisher nicht erfassten Fälle."
   ]
  },
  {
   "cell_type": "code",
   "execution_count": 7,
   "metadata": {},
   "outputs": [],
   "source": [
    "if x > y:\n",
    "    print(\"x ist größer als y.\")"
   ]
  },
  {
   "cell_type": "code",
   "execution_count": 8,
   "metadata": {},
   "outputs": [
    {
     "name": "stdout",
     "output_type": "stream",
     "text": [
      "x ist nicht größer als y\n"
     ]
    }
   ],
   "source": [
    "if x > y:\n",
    "    print(\"x ist größer als y.\")\n",
    "else:\n",
    "    print(\"x ist nicht größer als y\")"
   ]
  },
  {
   "cell_type": "code",
   "execution_count": 9,
   "metadata": {},
   "outputs": [
    {
     "name": "stdout",
     "output_type": "stream",
     "text": [
      "x ist kleiner als y\n"
     ]
    }
   ],
   "source": [
    "if x > y:\n",
    "    print(\"x ist größer als y.\")\n",
    "elif x < y:\n",
    "    print(\"x ist kleiner als y\")\n",
    "else:\n",
    "    print(\"x ist gleich y\")"
   ]
  },
  {
   "cell_type": "markdown",
   "metadata": {},
   "source": [
    "## for loop"
   ]
  },
  {
   "cell_type": "code",
   "execution_count": 10,
   "metadata": {},
   "outputs": [],
   "source": [
    "beispiel_liste = [3, -2, 0, 4]"
   ]
  },
  {
   "cell_type": "code",
   "execution_count": 11,
   "metadata": {},
   "outputs": [
    {
     "name": "stdout",
     "output_type": "stream",
     "text": [
      "Beispielliste behinhaltet die folgenden 4 Elemente:\n",
      "3\n",
      "-2\n",
      "0\n",
      "4\n"
     ]
    }
   ],
   "source": [
    "print(\"Beispielliste behinhaltet die folgenden\", len(beispiel_liste), \"Elemente:\")\n",
    "\n",
    "for element in beispiel_liste:\n",
    "    print(element)"
   ]
  },
  {
   "cell_type": "code",
   "execution_count": 12,
   "metadata": {},
   "outputs": [
    {
     "name": "stdout",
     "output_type": "stream",
     "text": [
      "3 ist größer als null.\n",
      "-2 ist nicht größer als null.\n",
      "0 ist nicht größer als null.\n",
      "4 ist größer als null.\n"
     ]
    }
   ],
   "source": [
    "for element in beispiel_liste:\n",
    "    if element > 0:\n",
    "        print(element, \"ist größer als null.\")\n",
    "    else:\n",
    "        print(element, \"ist nicht größer als null.\")"
   ]
  },
  {
   "cell_type": "markdown",
   "metadata": {},
   "source": [
    "## while loop"
   ]
  },
  {
   "cell_type": "code",
   "execution_count": 13,
   "metadata": {},
   "outputs": [
    {
     "name": "stdout",
     "output_type": "stream",
     "text": [
      "0\n",
      "2\n",
      "4\n",
      "6\n"
     ]
    }
   ],
   "source": [
    "i = 0\n",
    "while i < 7:\n",
    "    print(i)\n",
    "    i = i + 2"
   ]
  },
  {
   "cell_type": "markdown",
   "metadata": {},
   "source": [
    "# Aufgaben"
   ]
  },
  {
   "cell_type": "markdown",
   "metadata": {},
   "source": [
    "## Aufgabe 1\n",
    "\n",
    "1. Lege eine `list` mit 20 `integers` and.\n",
    "2. Schreibe eine Schleife (`for loop`), welche nur über die ersten 5 Elemente iteriert. (Tip: erst die ersten fünf Elemente auswählen und dann iterieren.)\n",
    "3. In jeder Iteration soll mit `print()` das Element und sein Quadrat ausgegeben werden."
   ]
  },
  {
   "cell_type": "code",
   "execution_count": null,
   "metadata": {},
   "outputs": [],
   "source": []
  },
  {
   "cell_type": "markdown",
   "metadata": {},
   "source": [
    "## Aufgabe 2\n",
    "\n",
    "1. Iteriere wiederum über die Liste aus den, aber gib dieses mal nur _ungrade_ Werte aus.\n",
    "2. Recherchiere im Internet, was der \"Modulo\"-Operator ist und nutze ihn zur Lösung dieser Aufgabe."
   ]
  },
  {
   "cell_type": "code",
   "execution_count": null,
   "metadata": {},
   "outputs": [],
   "source": []
  }
 ],
 "metadata": {
  "kernelspec": {
   "display_name": "Python 3",
   "language": "python",
   "name": "python3"
  },
  "language_info": {
   "codemirror_mode": {
    "name": "ipython",
    "version": 3
   },
   "file_extension": ".py",
   "mimetype": "text/x-python",
   "name": "python",
   "nbconvert_exporter": "python",
   "pygments_lexer": "ipython3",
   "version": "3.7.3"
  }
 },
 "nbformat": 4,
 "nbformat_minor": 4
}
