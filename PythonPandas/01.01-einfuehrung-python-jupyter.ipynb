{
 "cells": [
  {
   "cell_type": "markdown",
   "metadata": {},
   "source": [
    "<img style=\"width:30%; float:right\" src=\"images/dbu_logo.png\">\n",
    "\n",
    "# Einführung in Python\n",
    "\n",
    "Wir werden in diesem Modul mit den sogenannten \"Jupyter Notebooks\" arbeiten. Diese bieten eine Arbeitsumgebung, welche speziell für Datenanalysen und interaktive Programmierung gestaltet ist.\n",
    "\n",
    "- Projektwebsite Jupyter: [jupyter.org](https://jupyter.org)\n",
    "\n",
    "Jupyter bietet momentan zwei alternative GUIs (Graphical User Interfaces), die klassischen \"Notebooks\" und das neuere \"Lab\". Letztlich ist es für die Bearbeitung des Moduls egal, welches von beidem Ihr nutzt. Es kann aber zu minimalen Unterschieden in der Darstellung zwischen Euerer Umgebung und den Videos kommen.\n",
    "\n",
    "**Literaturempfehlungen:**\n",
    "\n",
    "- [Dan Toomey (2017): _Jupyter for Data Science_](https://ebookcentral.proquest.com/lib/dbuas/reader.action?docID=5110697)\n",
    "- [Al Sweigart (2015): _Automate the Boring Stuff with Python_](https://ebookcentral.proquest.com/lib/dbuas/reader.action?docID=4503140) werden wir im folgenden immer wieder als Referenz nutzen.\n",
    "- [Eric Matthes (2019): _Python Crash Course_](https://ebookcentral.proquest.com/lib/dbuas/reader.action?docID=5774153)\n",
    "\n",
    "**Sonstige Quellen / Referenzen:**\n",
    "\n",
    "- [w3schools.com](https://www.w3schools.com/python/default.asp)\n",
    "- [How to Think Like a Computer Scientist (Python)](http://openbookproject.net/thinkcs/python/english3e/)"
   ]
  },
  {
   "cell_type": "markdown",
   "metadata": {},
   "source": [
    "## Arbeiten mit Jupyter\n",
    "\n",
    "$\\rightarrow$ Demo"
   ]
  },
  {
   "cell_type": "markdown",
   "metadata": {},
   "source": [
    "Das ist ein Text mit **fetten** und _kursiven_ Markierungen. Es folgt eine Liste:\n",
    "\n",
    "- eins\n",
    "- zwei\n",
    "- drei\n",
    "\n",
    "Auch Links sind möglich: [Link text](http://example.com/)"
   ]
  },
  {
   "cell_type": "code",
   "execution_count": 1,
   "metadata": {},
   "outputs": [
    {
     "data": {
      "text/plain": [
       "2"
      ]
     },
     "execution_count": 1,
     "metadata": {},
     "output_type": "execute_result"
    }
   ],
   "source": [
    "1 + 1"
   ]
  },
  {
   "cell_type": "markdown",
   "metadata": {},
   "source": [
    "## Python als Taschenrechner\n",
    "\n",
    "Um einen ersten Einstieg in die Arbeit mit Python und Jupyter zu geben, schauen wir uns an, wie wir Python als Taschenrechner nutzen können.\n",
    "\n",
    "Mehr dazu findet Ihr in der offiziellen Python Dokumentation: [Using Python as a Calculator](https://docs.python.org/3/tutorial/introduction.html#using-python-as-a-calculator)"
   ]
  },
  {
   "cell_type": "markdown",
   "metadata": {},
   "source": [
    "$1 + 2$"
   ]
  },
  {
   "cell_type": "code",
   "execution_count": 2,
   "metadata": {},
   "outputs": [
    {
     "data": {
      "text/plain": [
       "3"
      ]
     },
     "execution_count": 2,
     "metadata": {},
     "output_type": "execute_result"
    }
   ],
   "source": [
    "1 + 2"
   ]
  },
  {
   "cell_type": "markdown",
   "metadata": {},
   "source": [
    "$\\frac{5}{10 + 5}$"
   ]
  },
  {
   "cell_type": "code",
   "execution_count": 3,
   "metadata": {},
   "outputs": [
    {
     "data": {
      "text/plain": [
       "0.3333333333333333"
      ]
     },
     "execution_count": 3,
     "metadata": {},
     "output_type": "execute_result"
    }
   ],
   "source": [
    "5 / (10 + 5)"
   ]
  },
  {
   "cell_type": "markdown",
   "metadata": {},
   "source": [
    "$2^2$"
   ]
  },
  {
   "cell_type": "code",
   "execution_count": 4,
   "metadata": {},
   "outputs": [
    {
     "data": {
      "text/plain": [
       "4"
      ]
     },
     "execution_count": 4,
     "metadata": {},
     "output_type": "execute_result"
    }
   ],
   "source": [
    "2 ** 2"
   ]
  },
  {
   "cell_type": "markdown",
   "metadata": {},
   "source": [
    "## Arbeiten mit Jupyter (Teil 2)\n",
    "\n",
    "$\\rightarrow$ \"Kernel restart and run all\" demonstrieren."
   ]
  }
 ],
 "metadata": {
  "kernelspec": {
   "display_name": "Python 3",
   "language": "python",
   "name": "python3"
  },
  "language_info": {
   "codemirror_mode": {
    "name": "ipython",
    "version": 3
   },
   "file_extension": ".py",
   "mimetype": "text/x-python",
   "name": "python",
   "nbconvert_exporter": "python",
   "pygments_lexer": "ipython3",
   "version": "3.7.3"
  }
 },
 "nbformat": 4,
 "nbformat_minor": 4
}
