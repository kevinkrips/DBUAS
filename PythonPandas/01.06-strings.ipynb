{
 "cells": [
  {
   "cell_type": "markdown",
   "metadata": {},
   "source": [
    "<img style=\"width:30%; float:right\" src=\"images/dbu_logo.png\">\n",
    "\n",
    "# Arbeit mit Texten (strings)\n",
    "\n",
    "Die Arbeit mit Texten ist insbesondere in der Mensch-Maschine-Interaktion von Bedeutung. In diesem Notebook wollen wir uns anschauen, wie wir Ergebnisse und Daten in Programmen gut lesbar ausgeben können. Dies wird uns später insbesonder auch bei der Suche nach Fehlern helfen.\n",
    "\n",
    "**Literaturempfehlung:**\n",
    "\n",
    "Kapitel 6 von [Eric Matthes (2019): _Python Crash Course_](https://ebookcentral.proquest.com/lib/dbuas/reader.action?docID=5774153)"
   ]
  },
  {
   "cell_type": "markdown",
   "metadata": {},
   "source": [
    "## Anführungszeichen und Zeilenumbrüche"
   ]
  },
  {
   "cell_type": "code",
   "execution_count": 1,
   "metadata": {},
   "outputs": [
    {
     "data": {
      "text/plain": [
       "'Das ist eine Text mit \"Anführungszeichen\".\\nUnd einem Zeilenumbruch'"
      ]
     },
     "execution_count": 1,
     "metadata": {},
     "output_type": "execute_result"
    }
   ],
   "source": [
    "demo1 = \"Das ist eine Text mit \\\"Anführungszeichen\\\".\\nUnd einem Zeilenumbruch\"\n",
    "demo1"
   ]
  },
  {
   "cell_type": "code",
   "execution_count": 2,
   "metadata": {},
   "outputs": [
    {
     "name": "stdout",
     "output_type": "stream",
     "text": [
      "Das ist eine Text mit \"Anführungszeichen\".\n",
      "Und einem Zeilenumbruch\n"
     ]
    }
   ],
   "source": [
    "print(demo1)"
   ]
  },
  {
   "cell_type": "code",
   "execution_count": 3,
   "metadata": {},
   "outputs": [
    {
     "name": "stdout",
     "output_type": "stream",
     "text": [
      "Hier kann ich normale \"Anführungszeichen\" verwenden\n"
     ]
    }
   ],
   "source": [
    "demo2 = 'Hier kann ich normale \"Anführungszeichen\" verwenden'\n",
    "print(demo2)"
   ]
  },
  {
   "cell_type": "code",
   "execution_count": 4,
   "metadata": {},
   "outputs": [
    {
     "name": "stdout",
     "output_type": "stream",
     "text": [
      "Zwischen drei-fachen Anführungszeichen sind \" direkt erlaubt.\n",
      "\n",
      "Und Zeilenumbrüche werden auch direkt übernommen.\n"
     ]
    }
   ],
   "source": [
    "demo3 = \"\"\"Zwischen drei-fachen Anführungszeichen sind \" direkt erlaubt.\n",
    "\n",
    "Und Zeilenumbrüche werden auch direkt übernommen.\"\"\"\n",
    "print(demo3)"
   ]
  },
  {
   "cell_type": "markdown",
   "metadata": {},
   "source": [
    "## Zusammensetzen von Zeichenketten"
   ]
  },
  {
   "cell_type": "code",
   "execution_count": 5,
   "metadata": {},
   "outputs": [
    {
     "data": {
      "text/plain": [
       "'abcxyz'"
      ]
     },
     "execution_count": 5,
     "metadata": {},
     "output_type": "execute_result"
    }
   ],
   "source": [
    "teil1 = \"abc\"\n",
    "teil2 = \"xyz\"\n",
    "teil1 + teil2"
   ]
  },
  {
   "cell_type": "markdown",
   "metadata": {},
   "source": [
    "### %-Syntax"
   ]
  },
  {
   "cell_type": "code",
   "execution_count": 6,
   "metadata": {},
   "outputs": [
    {
     "data": {
      "text/plain": [
       "{'id': 'dsba.01', 'name': 'Einführung in das Studium DSBA'}"
      ]
     },
     "execution_count": 6,
     "metadata": {},
     "output_type": "execute_result"
    }
   ],
   "source": [
    "modul1 = dict(\n",
    "    id=\"dsba.01\",\n",
    "    name=\"Einführung in das Studium DSBA\",\n",
    ")\n",
    "modul1"
   ]
  },
  {
   "cell_type": "code",
   "execution_count": 7,
   "metadata": {},
   "outputs": [
    {
     "name": "stdout",
     "output_type": "stream",
     "text": [
      "Das erste Modul heißt: Einführung in das Studium DSBA\n"
     ]
    }
   ],
   "source": [
    "print(\"Das erste Modul heißt: %s\" % modul1[\"name\"])"
   ]
  },
  {
   "cell_type": "code",
   "execution_count": 8,
   "metadata": {},
   "outputs": [
    {
     "name": "stdout",
     "output_type": "stream",
     "text": [
      "Das erste Modul hat die ID dsba.01 und heißt: Einführung in das Studium DSBA\n"
     ]
    }
   ],
   "source": [
    "print(\"Das erste Modul hat die ID %s und heißt: %s\" % (modul1[\"id\"], modul1[\"name\"]))"
   ]
  },
  {
   "cell_type": "markdown",
   "metadata": {},
   "source": [
    "Formatierung als string (`%s`), integer (`%i`) oder floating number (`%...f`)"
   ]
  },
  {
   "cell_type": "code",
   "execution_count": 9,
   "metadata": {},
   "outputs": [
    {
     "name": "stdout",
     "output_type": "stream",
     "text": [
      "Verschidene Darstellungen von Zahlenwerten:\n",
      "Als str: ..... 2.1\n",
      "Als int: ..... 2\n",
      "Als float: ... 2.10\n"
     ]
    }
   ],
   "source": [
    "x = 2.1\n",
    "print(\"Verschidene Darstellungen von Zahlenwerten:\")\n",
    "print(\"Als str: ..... %s\" % x)\n",
    "print(\"Als int: ..... %i\" % x)\n",
    "print(\"Als float: ... %1.2f\" % x)"
   ]
  },
  {
   "cell_type": "markdown",
   "metadata": {},
   "source": [
    "### f-Strings"
   ]
  },
  {
   "cell_type": "code",
   "execution_count": 10,
   "metadata": {},
   "outputs": [
    {
     "name": "stdout",
     "output_type": "stream",
     "text": [
      "Das erste Modul hat die ID dsba.01 und heißt Einführung in das Studium DSBA\n"
     ]
    }
   ],
   "source": [
    "print(f\"Das erste Modul hat die ID {modul1['id']} und heißt {modul1['name']}\")"
   ]
  },
  {
   "cell_type": "markdown",
   "metadata": {},
   "source": [
    "## Listen-ähnliche Strings"
   ]
  },
  {
   "cell_type": "code",
   "execution_count": 11,
   "metadata": {},
   "outputs": [
    {
     "data": {
      "text/plain": [
       "'abc'"
      ]
     },
     "execution_count": 11,
     "metadata": {},
     "output_type": "execute_result"
    }
   ],
   "source": [
    "\"abcdef\"[0:3]"
   ]
  },
  {
   "cell_type": "code",
   "execution_count": 12,
   "metadata": {},
   "outputs": [
    {
     "name": "stdout",
     "output_type": "stream",
     "text": [
      "a\n",
      "b\n",
      "c\n"
     ]
    }
   ],
   "source": [
    "for x in \"abc\":\n",
    "    print(x)"
   ]
  },
  {
   "cell_type": "markdown",
   "metadata": {},
   "source": [
    "# Aufgaben"
   ]
  },
  {
   "cell_type": "markdown",
   "metadata": {},
   "source": [
    "## Aufgabe 1\n",
    "\n",
    "Die folgende Funktion `print_module()` kennen wir bereits aus einem früheren Notebook. Bitte passe sie so an, dass der String im `print`-Statement mithile eines _f-strings_ zusammengesetzt wird."
   ]
  },
  {
   "cell_type": "code",
   "execution_count": 13,
   "metadata": {},
   "outputs": [
    {
     "data": {
      "text/plain": [
       "[{'id': 'dsba.01', 'name': 'Einführung in das Studium'},\n",
       " {'id': 'dsba.02', 'name': 'Lab: Python und Pandas'},\n",
       " {'id': 'dsba.03', 'name': 'Einführung in die IT'}]"
      ]
     },
     "execution_count": 13,
     "metadata": {},
     "output_type": "execute_result"
    }
   ],
   "source": [
    "module_list = [\n",
    "    dict(id=\"dsba.01\", name=\"Einführung in das Studium\"),\n",
    "    dict(id=\"dsba.02\", name=\"Lab: Python und Pandas\"),\n",
    "    dict(id=\"dsba.03\", name=\"Einführung in die IT\"),\n",
    "]\n",
    "module_list"
   ]
  },
  {
   "cell_type": "code",
   "execution_count": 14,
   "metadata": {},
   "outputs": [],
   "source": [
    "def print_module(x):\n",
    "    print(\"Modul\", x[\"id\"], \"heißt:\", x[\"name\"])"
   ]
  },
  {
   "cell_type": "code",
   "execution_count": 15,
   "metadata": {},
   "outputs": [
    {
     "name": "stdout",
     "output_type": "stream",
     "text": [
      "Modul dsba.01 heißt: Einführung in das Studium\n",
      "Modul dsba.02 heißt: Lab: Python und Pandas\n",
      "Modul dsba.03 heißt: Einführung in die IT\n"
     ]
    }
   ],
   "source": [
    "for module in module_list:\n",
    "    print_module(module)"
   ]
  },
  {
   "cell_type": "markdown",
   "metadata": {},
   "source": [
    "## Aufgabe 2\n",
    "\n",
    "1. Recherchiere im Internet, wie Du _floats_ formatieren kannst (dies geht sowohl mit der %- als auch f-Syntax).\n",
    "2. Bitte schreibe eine Funktion, welche die verschachtelte Liste (`nested_list`) wie folgt ausgibt:\n",
    "\n",
    "```\n",
    "+--------+--------+\n",
    "|  10.00 |  24.00 |\n",
    "+--------+--------+\n",
    "|   2.10 | 300.00 |\n",
    "+--------+--------+\n",
    "|   3.00 |   2.33 |\n",
    "+--------+--------+\n",
    "```\n",
    "\n",
    "Bitte die vorausgehnde Ausgabe exakt (!) reproduzieren, also inklusive aller Trennlinen etc."
   ]
  },
  {
   "cell_type": "code",
   "execution_count": 16,
   "metadata": {},
   "outputs": [
    {
     "data": {
      "text/plain": [
       "[[10, 24], [2.1, 300], [3, 2.333333]]"
      ]
     },
     "execution_count": 16,
     "metadata": {},
     "output_type": "execute_result"
    }
   ],
   "source": [
    "nested_list = [\n",
    "    [10, 24],\n",
    "    [2.1, 300],\n",
    "    [3, 2.333333]\n",
    "]\n",
    "nested_list"
   ]
  },
  {
   "cell_type": "code",
   "execution_count": null,
   "metadata": {},
   "outputs": [],
   "source": []
  }
 ],
 "metadata": {
  "kernelspec": {
   "display_name": "Python 3",
   "language": "python",
   "name": "python3"
  },
  "language_info": {
   "codemirror_mode": {
    "name": "ipython",
    "version": 3
   },
   "file_extension": ".py",
   "mimetype": "text/x-python",
   "name": "python",
   "nbconvert_exporter": "python",
   "pygments_lexer": "ipython3",
   "version": "3.7.3"
  }
 },
 "nbformat": 4,
 "nbformat_minor": 4
}
