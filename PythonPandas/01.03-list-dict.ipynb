{
 "cells": [
  {
   "cell_type": "markdown",
   "metadata": {},
   "source": [
    "<img style=\"width:30%; float:right\" src=\"images/dbu_logo.png\">\n",
    "\n",
    "# Lists & Dictonaries\n",
    "\n",
    "Die Datentypen `list` und `dict` bieten die einfachste Möglichkeit, um in Python zusamengesetzte Objekte zu erzeugen. Listen sind bündeln eine Reihe von Elementen und bewahren dabei die Reihenfolge. Dictonaries speichern Informationen als Kombination eines ein-eindeutigen Schlüssels und eines dazugehörigen Wertes (_key-value_). Die beiden Strukturen können kombiniert werden, in dem wir beispielsweise mehrere Dictonaries in einer Liste zusammenfassen.\n",
    "\n",
    "**Literaturempfehlung:**\n",
    "\n",
    "Kapitel 4 und 5 von [Al Sweigart (2015): _Automate the Boring Stuff with Python_](https://ebookcentral.proquest.com/lib/dbuas/reader.action?docID=4503140)"
   ]
  },
  {
   "cell_type": "markdown",
   "metadata": {},
   "source": [
    "## List"
   ]
  },
  {
   "cell_type": "code",
   "execution_count": 1,
   "metadata": {},
   "outputs": [
    {
     "data": {
      "text/plain": [
       "[1, 2, 5]"
      ]
     },
     "execution_count": 1,
     "metadata": {},
     "output_type": "execute_result"
    }
   ],
   "source": [
    "beispiel_liste = [1, 2, 5]\n",
    "beispiel_liste"
   ]
  },
  {
   "cell_type": "code",
   "execution_count": 2,
   "metadata": {},
   "outputs": [
    {
     "data": {
      "text/plain": [
       "['a', 12, 0.1]"
      ]
     },
     "execution_count": 2,
     "metadata": {},
     "output_type": "execute_result"
    }
   ],
   "source": [
    "zweites_beispiel = [\"a\", 12, 0.1]\n",
    "zweites_beispiel"
   ]
  },
  {
   "cell_type": "markdown",
   "metadata": {},
   "source": [
    "**Achtung:** Gemischte Listen können häufig zu Problemem führen."
   ]
  },
  {
   "cell_type": "code",
   "execution_count": 3,
   "metadata": {},
   "outputs": [
    {
     "data": {
      "text/plain": [
       "['eins', 'zwei', 'drei']"
      ]
     },
     "execution_count": 3,
     "metadata": {},
     "output_type": "execute_result"
    }
   ],
   "source": [
    "string_beispiel = [\"eins\", \"zwei\", \"drei\"]\n",
    "string_beispiel"
   ]
  },
  {
   "cell_type": "code",
   "execution_count": 4,
   "metadata": {},
   "outputs": [
    {
     "data": {
      "text/plain": [
       "'eins'"
      ]
     },
     "execution_count": 4,
     "metadata": {},
     "output_type": "execute_result"
    }
   ],
   "source": [
    "string_beispiel[0]"
   ]
  },
  {
   "cell_type": "code",
   "execution_count": 5,
   "metadata": {},
   "outputs": [
    {
     "data": {
      "text/plain": [
       "'zwei'"
      ]
     },
     "execution_count": 5,
     "metadata": {},
     "output_type": "execute_result"
    }
   ],
   "source": [
    "string_beispiel[1]"
   ]
  },
  {
   "cell_type": "markdown",
   "metadata": {},
   "source": [
    "**Nummerierung innerhalb einer Liste:**\n",
    "\n",
    "```\n",
    "|------|------|------|\n",
    "| eins | zwei | drei |\n",
    "|------|------|------|\n",
    "0      1      2      3\n",
    "```"
   ]
  },
  {
   "cell_type": "code",
   "execution_count": 6,
   "metadata": {},
   "outputs": [
    {
     "data": {
      "text/plain": [
       "['eins', 'zwei']"
      ]
     },
     "execution_count": 6,
     "metadata": {},
     "output_type": "execute_result"
    }
   ],
   "source": [
    "string_beispiel[0:2]"
   ]
  },
  {
   "cell_type": "markdown",
   "metadata": {},
   "source": [
    "**Rückwertige Nummerierung innerhalb einer Liste:**\n",
    "\n",
    "```\n",
    " |------|------|------|\n",
    " | eins | zwei | drei |\n",
    " |------|------|------|\n",
    "-3     -2     -1      \n",
    "```"
   ]
  },
  {
   "cell_type": "code",
   "execution_count": 7,
   "metadata": {},
   "outputs": [
    {
     "data": {
      "text/plain": [
       "'drei'"
      ]
     },
     "execution_count": 7,
     "metadata": {},
     "output_type": "execute_result"
    }
   ],
   "source": [
    "string_beispiel[-1]"
   ]
  },
  {
   "cell_type": "code",
   "execution_count": 8,
   "metadata": {},
   "outputs": [
    {
     "data": {
      "text/plain": [
       "['zwei', 'drei']"
      ]
     },
     "execution_count": 8,
     "metadata": {},
     "output_type": "execute_result"
    }
   ],
   "source": [
    "string_beispiel[-2:]"
   ]
  },
  {
   "cell_type": "code",
   "execution_count": 9,
   "metadata": {},
   "outputs": [
    {
     "data": {
      "text/plain": [
       "['eins', 'zwei', 'drei', 'vier']"
      ]
     },
     "execution_count": 9,
     "metadata": {},
     "output_type": "execute_result"
    }
   ],
   "source": [
    "string_beispiel.append(\"vier\")\n",
    "string_beispiel"
   ]
  },
  {
   "cell_type": "code",
   "execution_count": 10,
   "metadata": {},
   "outputs": [
    {
     "data": {
      "text/plain": [
       "['zwei', 'drei', 'vier']"
      ]
     },
     "execution_count": 10,
     "metadata": {},
     "output_type": "execute_result"
    }
   ],
   "source": [
    "del(string_beispiel[0])\n",
    "string_beispiel"
   ]
  },
  {
   "cell_type": "code",
   "execution_count": 11,
   "metadata": {},
   "outputs": [
    {
     "data": {
      "text/plain": [
       "['zwei', 'vier']"
      ]
     },
     "execution_count": 11,
     "metadata": {},
     "output_type": "execute_result"
    }
   ],
   "source": [
    "string_beispiel.remove(\"drei\")\n",
    "string_beispiel"
   ]
  },
  {
   "cell_type": "markdown",
   "metadata": {},
   "source": [
    "## Dictonaries"
   ]
  },
  {
   "cell_type": "code",
   "execution_count": 12,
   "metadata": {},
   "outputs": [
    {
     "data": {
      "text/plain": [
       "{'id': 'dsba.01', 'name': 'Einführung in das Studium'}"
      ]
     },
     "execution_count": 12,
     "metadata": {},
     "output_type": "execute_result"
    }
   ],
   "source": [
    "modul1 = {\"id\": \"dsba.01\", \"name\": \"Einführung in das Studium\"}\n",
    "modul1"
   ]
  },
  {
   "cell_type": "code",
   "execution_count": 13,
   "metadata": {},
   "outputs": [
    {
     "data": {
      "text/plain": [
       "{'id': 'dsba.01',\n",
       " 'name': 'Einführung in das Studium',\n",
       " 'start_date': 'Nov 2019'}"
      ]
     },
     "execution_count": 13,
     "metadata": {},
     "output_type": "execute_result"
    }
   ],
   "source": [
    "modul1[\"start_date\"] = \"Nov 2019\"\n",
    "modul1"
   ]
  },
  {
   "cell_type": "code",
   "execution_count": 14,
   "metadata": {},
   "outputs": [
    {
     "data": {
      "text/plain": [
       "{'id': 'dsba.01', 'name': 'Einführung in das Studium'}"
      ]
     },
     "execution_count": 14,
     "metadata": {},
     "output_type": "execute_result"
    }
   ],
   "source": [
    "del(modul1[\"start_date\"])\n",
    "modul1"
   ]
  },
  {
   "cell_type": "code",
   "execution_count": 15,
   "metadata": {},
   "outputs": [
    {
     "data": {
      "text/plain": [
       "{'id': 'dsba.02', 'name': 'Lab: Python und Pandas'}"
      ]
     },
     "execution_count": 15,
     "metadata": {},
     "output_type": "execute_result"
    }
   ],
   "source": [
    "modul2 = dict(id=\"dsba.02\", name=\"Lab: Python und Pandas\")\n",
    "modul2"
   ]
  },
  {
   "cell_type": "code",
   "execution_count": 16,
   "metadata": {},
   "outputs": [],
   "source": [
    "modul3 = dict(\n",
    "    id=\"dsba.03\",\n",
    "    name=\"Einführung in die IT\"\n",
    ")"
   ]
  },
  {
   "cell_type": "code",
   "execution_count": 17,
   "metadata": {},
   "outputs": [
    {
     "data": {
      "text/plain": [
       "[{'id': 'dsba.01', 'name': 'Einführung in das Studium'},\n",
       " {'id': 'dsba.02', 'name': 'Lab: Python und Pandas'},\n",
       " {'id': 'dsba.03', 'name': 'Einführung in die IT'}]"
      ]
     },
     "execution_count": 17,
     "metadata": {},
     "output_type": "execute_result"
    }
   ],
   "source": [
    "modul_liste = [modul1, modul2, modul3]\n",
    "modul_liste"
   ]
  },
  {
   "cell_type": "code",
   "execution_count": 18,
   "metadata": {},
   "outputs": [
    {
     "name": "stdout",
     "output_type": "stream",
     "text": [
      "Das Modul dsba.01 heißt: Einführung in das Studium\n",
      "Das Modul dsba.02 heißt: Lab: Python und Pandas\n",
      "Das Modul dsba.03 heißt: Einführung in die IT\n"
     ]
    }
   ],
   "source": [
    "for modul in modul_liste:\n",
    "    print(\"Das Modul\", modul[\"id\"], \"heißt:\", modul[\"name\"])"
   ]
  },
  {
   "cell_type": "markdown",
   "metadata": {},
   "source": [
    "## Aufgaben"
   ]
  },
  {
   "cell_type": "markdown",
   "metadata": {},
   "source": [
    "## Aufgabe 1\n",
    "\n",
    "\n",
    "In der offiziellen Python Dokumentation gibt es eine Übersicht über Funktionen, welche spezielle für Lisetn zur Verfügung stehen:\n",
    "\n",
    "https://docs.python.org/3.7/tutorial/datastructures.html#more-on-lists\n",
    "\n",
    "Bitte ließ Dir zunächst diese Liste durch um ein bessers Verständnis davon zu bekommen, wie Vielfältig die Arbeit mit Listen ist.\n",
    "\n",
    "Sortiere anschließend die folgende Liste `aufgabe1`."
   ]
  },
  {
   "cell_type": "code",
   "execution_count": 19,
   "metadata": {},
   "outputs": [],
   "source": [
    "aufgabe1 = [1, 4, 2, 6, 0]"
   ]
  },
  {
   "cell_type": "code",
   "execution_count": null,
   "metadata": {},
   "outputs": [],
   "source": []
  },
  {
   "cell_type": "markdown",
   "metadata": {},
   "source": [
    "## Aufgabe 2\n",
    "\n",
    "1. Bitte nehme die folgende Liste `aufgabe2` und füge Ihr zunächst ein Element `\"d\"` hinzu.\n",
    "2. Enferne anschließend das ELement `\"b\"`"
   ]
  },
  {
   "cell_type": "code",
   "execution_count": 20,
   "metadata": {},
   "outputs": [],
   "source": [
    "aufgabe2 = [\"a\", \"b\", \"c\"]"
   ]
  },
  {
   "cell_type": "code",
   "execution_count": null,
   "metadata": {},
   "outputs": [],
   "source": []
  },
  {
   "cell_type": "markdown",
   "metadata": {},
   "source": [
    "## Aufgabe 3\n",
    "\n",
    "Wir arbeiten mit `modul_liste` weiter.\n",
    "\n",
    "1. Füge ein viertes Modul (als `dict`) hinzu, dessen `id` ist \"dsba.04\" und der `name` ist \"Einführung in die Mathematik\"."
   ]
  },
  {
   "cell_type": "code",
   "execution_count": null,
   "metadata": {},
   "outputs": [],
   "source": []
  },
  {
   "cell_type": "markdown",
   "metadata": {},
   "source": [
    "## Aufgabe 4\n",
    "\n",
    "In `modul_liste` haben wir eine verschachtelte Struktur. Bitte kombiniere die Möglichkeit, Elemente mit `[ ]` zu selektieren, um zunächst den zweiten Kurs und dann dessen Namen auszuwählen und mit `print()` zurückzugeben."
   ]
  },
  {
   "cell_type": "code",
   "execution_count": null,
   "metadata": {},
   "outputs": [],
   "source": []
  }
 ],
 "metadata": {
  "kernelspec": {
   "display_name": "Python 3",
   "language": "python",
   "name": "python3"
  },
  "language_info": {
   "codemirror_mode": {
    "name": "ipython",
    "version": 3
   },
   "file_extension": ".py",
   "mimetype": "text/x-python",
   "name": "python",
   "nbconvert_exporter": "python",
   "pygments_lexer": "ipython3",
   "version": "3.7.3"
  }
 },
 "nbformat": 4,
 "nbformat_minor": 4
}
