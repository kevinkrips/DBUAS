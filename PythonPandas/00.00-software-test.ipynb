{
 "cells": [
  {
   "cell_type": "markdown",
   "metadata": {},
   "source": [
    "<img style=\"width:30%; float:right\" src=\"images/dbu_logo.png\">\n",
    "\n",
    "# Software-Test\n",
    "\n",
    "Für die Arbeit im zweiten Modul benötigen wir die folgenden Pakete:\n",
    "\n",
    "- Grundlagen DS: Numpy und Pandas\n",
    "- Visualisierung: Matplotlib und Seaborn\n",
    "- Statistik / ML: statsmodels und scikit-learn\n",
    "\n",
    "Die benötigten Module können mit [pip](https://pypi.org/project/pip/) installiert werden, dazu muss im Terminal / auf der Konsole der folgende Befehl ausgeführt werden:\n",
    "\n",
    "```\n",
    "----------------------------------- TERMINAL -----------------------------------\n",
    " pip3 install numpy pandas matplotlib seaborn statsmodels scikit-learn\n",
    "--------------------------------------------------------------------------------\n",
    "```\n",
    "\n",
    "Anschließend kann man Jupyter starten:\n",
    "\n",
    "```\n",
    "----------------------------------- TERMINAL -----------------------------------\n",
    " jupyter notebook\n",
    "--------------------------------------------------------------------------------\n",
    "```\n",
    "\n"
   ]
  },
  {
   "cell_type": "markdown",
   "metadata": {},
   "source": [
    "## Laden aller nötiger Module"
   ]
  },
  {
   "cell_type": "code",
   "execution_count": 1,
   "metadata": {},
   "outputs": [
    {
     "name": "stdout",
     "output_type": "stream",
     "text": [
      "[INFO] Python version: ....... 3.7.3 (v3.7.3:ef4ec6ed12, Mar 25 2019, 22:22:05) [MSC v.1916 64 bit (AMD64)]\n",
      "[INFO] Jupyter version: ...... 1.0.0\n",
      "[INFO] NumPy version: ........ 1.16.4\n",
      "[INFO] Pandas version: ....... 0.24.2\n",
      "[INFO] Matplotlib version: ... 3.1.1\n",
      "[INFO] Seaborn version: ...... 0.9.0\n",
      "[INFO] sklearn version: ...... 0.21.3\n",
      "[INFO] statsmodels version: .. 0.10.1\n"
     ]
    }
   ],
   "source": [
    "import sys\n",
    "print(\"[INFO] Python version: .......\", sys.version)\n",
    "\n",
    "import jupyter\n",
    "print(\"[INFO] Jupyter version: ......\", jupyter.__version__)\n",
    "\n",
    "try:\n",
    "    import numpy as np\n",
    "    print(\"[INFO] NumPy version: ........\", np.__version__)\n",
    "except:\n",
    "    print(\"[ERROR] NumPy wurde noch nicht installiert.\")\n",
    "\n",
    "try:\n",
    "    import pandas as pd\n",
    "    print(\"[INFO] Pandas version: .......\", pd.__version__)\n",
    "except:\n",
    "    print(\"[ERROR] Pandas wurde noch nicht installiert.\")\n",
    "\n",
    "try:\n",
    "    import matplotlib as mpl\n",
    "    print(\"[INFO] Matplotlib version: ...\", mpl.__version__)\n",
    "except:\n",
    "    print(\"[ERROR] Matplotlib wurde noch nicht installiert.\")\n",
    "\n",
    "try:\n",
    "    import seaborn as sns\n",
    "    print(\"[INFO] Seaborn version: ......\", sns.__version__)\n",
    "except:\n",
    "    print(\"[ERROR] Seaborn wurde noch nicht installiert.\")\n",
    "\n",
    "try:\n",
    "    import sklearn\n",
    "    print(\"[INFO] sklearn version: ......\", sklearn.__version__)\n",
    "except:\n",
    "    print(\"[ERROR] sklearn wurde noch nicht installiert.\")\n",
    "\n",
    "try:\n",
    "    import statsmodels\n",
    "    print(\"[INFO] statsmodels version: ..\", statsmodels.__version__)\n",
    "except:\n",
    "    print(\"[ERROR] statsmodels wurde noch nicht installiert.\")"
   ]
  }
 ],
 "metadata": {
  "kernelspec": {
   "display_name": "Python 3",
   "language": "python",
   "name": "python3"
  },
  "language_info": {
   "codemirror_mode": {
    "name": "ipython",
    "version": 3
   },
   "file_extension": ".py",
   "mimetype": "text/x-python",
   "name": "python",
   "nbconvert_exporter": "python",
   "pygments_lexer": "ipython3",
   "version": "3.7.3"
  }
 },
 "nbformat": 4,
 "nbformat_minor": 4
}
