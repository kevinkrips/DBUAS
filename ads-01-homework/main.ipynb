{
 "cells": [
  {
   "cell_type": "code",
   "execution_count": 21,
   "source": [
    "import os\r\n",
    "import pandas as pd\r\n",
    "import seaborn as sns\r\n",
    "import numpy as np\r\n",
    "\r\n",
    "\r\n",
    "%matplotlib inline\r\n",
    "\r\n",
    "INPUT_FILE = os.path.join(\"input\", \"ks-projects-201801.csv\")\r\n",
    "REPORT_FILE = os.path.join(\"output\",\"profile.html\")\r\n",
    "GENERATE_REPORT = False\r\n",
    "\r\n",
    "raw_data = pd.read_csv(INPUT_FILE)\r\n",
    "\r\n",
    "# creating a copy of the original data to ensure integrity of input data\r\n",
    "data = raw_data.copy()\r\n",
    "data.head()\r\n",
    "\r\n",
    "def success (campaign):\r\n",
    "    if campaign[\"state\"] == 'successful':\r\n",
    "        return \"Yes\"\r\n",
    "    else:\r\n",
    "        return \"No\"\r\n",
    "\r\n",
    "c1 = {\"state\": \"successful\"}\r\n",
    "data[\"result\"] = data.apply(success, axis=1)\r\n",
    "data[\"result\"].value_counts(sort= False, normalize=True).round(3) * 100\r\n",
    "\r\n",
    "data[\"mapped\"] = data[\"result\"].map({\"successful\": \"Yes\", \"failed\": \"No\",\"cancelled\": \"No\"})\r\n",
    "pd.crosstab(data[\"result\"], data[\"mapped\"])\r\n",
    "\r\n"
   ],
   "outputs": [
    {
     "output_type": "execute_result",
     "data": {
      "text/plain": [
       "Empty DataFrame\n",
       "Columns: []\n",
       "Index: []"
      ],
      "text/html": [
       "<div>\n",
       "<style scoped>\n",
       "    .dataframe tbody tr th:only-of-type {\n",
       "        vertical-align: middle;\n",
       "    }\n",
       "\n",
       "    .dataframe tbody tr th {\n",
       "        vertical-align: top;\n",
       "    }\n",
       "\n",
       "    .dataframe thead th {\n",
       "        text-align: right;\n",
       "    }\n",
       "</style>\n",
       "<table border=\"1\" class=\"dataframe\">\n",
       "  <thead>\n",
       "    <tr style=\"text-align: right;\">\n",
       "      <th>mapped</th>\n",
       "    </tr>\n",
       "    <tr>\n",
       "      <th>result</th>\n",
       "    </tr>\n",
       "  </thead>\n",
       "  <tbody>\n",
       "  </tbody>\n",
       "</table>\n",
       "</div>"
      ]
     },
     "metadata": {},
     "execution_count": 21
    }
   ],
   "metadata": {}
  }
 ],
 "metadata": {
  "orig_nbformat": 4,
  "language_info": {
   "name": "python",
   "version": "3.9.6",
   "mimetype": "text/x-python",
   "codemirror_mode": {
    "name": "ipython",
    "version": 3
   },
   "pygments_lexer": "ipython3",
   "nbconvert_exporter": "python",
   "file_extension": ".py"
  },
  "kernelspec": {
   "name": "python3",
   "display_name": "Python 3.9.6 64-bit (windows store)"
  },
  "interpreter": {
   "hash": "24901a63d322f39b9039cf04f7963789d024ff4b793e178cf78e8d6c6e811f0b"
  }
 },
 "nbformat": 4,
 "nbformat_minor": 2
}