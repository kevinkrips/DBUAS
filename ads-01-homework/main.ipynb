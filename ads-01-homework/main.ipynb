{
 "cells": [
  {
   "cell_type": "code",
   "execution_count": 2,
   "metadata": {},
   "outputs": [],
   "source": [
    "## install pandas via jupyter (first run only!)\n",
    "#!pip3 install --upgrade pip setuptools wheel\n",
    "#!pip3 install pandas\n",
    "#!pip3 install seaborn\n",
    "\n",
    "import os\n",
    "import pandas as pd\n",
    "import seaborn as sns\n",
    "import numpy as np\n",
    "import matplotlib.pyplot as plt\n",
    "\n",
    "%matplotlib inline\n",
    "\n",
    "INPUT_FILE = os.path.join(\"input\", \"ks-projects-201801.csv\")\n",
    "REPORT_FILE = os.path.join(\"output\",\"profile.html\")\n",
    "GENERATE_REPORT = False\n",
    "\n",
    "raw_data = pd.read_csv(INPUT_FILE)\n",
    "raw_data.head()\n",
    "\n",
    "# creating a copy of the original data to ensure integrity of input data\n",
    "data = raw_data.copy()\n",
    "#data.head()\n"
   ]
  },
  {
   "cell_type": "code",
   "execution_count": 3,
   "metadata": {},
   "outputs": [
    {
     "data": {
      "text/html": [
       "<div>\n",
       "<style scoped>\n",
       "    .dataframe tbody tr th:only-of-type {\n",
       "        vertical-align: middle;\n",
       "    }\n",
       "\n",
       "    .dataframe tbody tr th {\n",
       "        vertical-align: top;\n",
       "    }\n",
       "\n",
       "    .dataframe thead th {\n",
       "        text-align: right;\n",
       "    }\n",
       "</style>\n",
       "<table border=\"1\" class=\"dataframe\">\n",
       "  <thead>\n",
       "    <tr style=\"text-align: right;\">\n",
       "      <th></th>\n",
       "      <th>main_category</th>\n",
       "      <th>pledged</th>\n",
       "      <th>goal</th>\n",
       "      <th>percent</th>\n",
       "    </tr>\n",
       "  </thead>\n",
       "  <tbody>\n",
       "    <tr>\n",
       "      <th>92271</th>\n",
       "      <td>Theater</td>\n",
       "      <td>1155.00</td>\n",
       "      <td>1.00</td>\n",
       "      <td>115500.0</td>\n",
       "    </tr>\n",
       "    <tr>\n",
       "      <th>74545</th>\n",
       "      <td>Theater</td>\n",
       "      <td>1100.00</td>\n",
       "      <td>1.00</td>\n",
       "      <td>110000.0</td>\n",
       "    </tr>\n",
       "    <tr>\n",
       "      <th>347517</th>\n",
       "      <td>Theater</td>\n",
       "      <td>100.00</td>\n",
       "      <td>1.00</td>\n",
       "      <td>10000.0</td>\n",
       "    </tr>\n",
       "    <tr>\n",
       "      <th>73831</th>\n",
       "      <td>Theater</td>\n",
       "      <td>451.00</td>\n",
       "      <td>5.00</td>\n",
       "      <td>9020.0</td>\n",
       "    </tr>\n",
       "    <tr>\n",
       "      <th>302609</th>\n",
       "      <td>Theater</td>\n",
       "      <td>65.00</td>\n",
       "      <td>1.00</td>\n",
       "      <td>6500.0</td>\n",
       "    </tr>\n",
       "    <tr>\n",
       "      <th>...</th>\n",
       "      <td>...</td>\n",
       "      <td>...</td>\n",
       "      <td>...</td>\n",
       "      <td>...</td>\n",
       "    </tr>\n",
       "    <tr>\n",
       "      <th>285408</th>\n",
       "      <td>Art</td>\n",
       "      <td>27588.23</td>\n",
       "      <td>1.00</td>\n",
       "      <td>2758823.0</td>\n",
       "    </tr>\n",
       "    <tr>\n",
       "      <th>304489</th>\n",
       "      <td>Art</td>\n",
       "      <td>100.00</td>\n",
       "      <td>0.01</td>\n",
       "      <td>1000000.0</td>\n",
       "    </tr>\n",
       "    <tr>\n",
       "      <th>11384</th>\n",
       "      <td>Art</td>\n",
       "      <td>834.00</td>\n",
       "      <td>1.00</td>\n",
       "      <td>83400.0</td>\n",
       "    </tr>\n",
       "    <tr>\n",
       "      <th>33356</th>\n",
       "      <td>Art</td>\n",
       "      <td>796.00</td>\n",
       "      <td>1.00</td>\n",
       "      <td>79600.0</td>\n",
       "    </tr>\n",
       "    <tr>\n",
       "      <th>112774</th>\n",
       "      <td>Art</td>\n",
       "      <td>14936.00</td>\n",
       "      <td>25.00</td>\n",
       "      <td>59744.0</td>\n",
       "    </tr>\n",
       "  </tbody>\n",
       "</table>\n",
       "<p>75 rows × 4 columns</p>\n",
       "</div>"
      ],
      "text/plain": [
       "       main_category   pledged   goal    percent\n",
       "92271        Theater   1155.00   1.00   115500.0\n",
       "74545        Theater   1100.00   1.00   110000.0\n",
       "347517       Theater    100.00   1.00    10000.0\n",
       "73831        Theater    451.00   5.00     9020.0\n",
       "302609       Theater     65.00   1.00     6500.0\n",
       "...              ...       ...    ...        ...\n",
       "285408           Art  27588.23   1.00  2758823.0\n",
       "304489           Art    100.00   0.01  1000000.0\n",
       "11384            Art    834.00   1.00    83400.0\n",
       "33356            Art    796.00   1.00    79600.0\n",
       "112774           Art  14936.00  25.00    59744.0\n",
       "\n",
       "[75 rows x 4 columns]"
      ]
     },
     "execution_count": 3,
     "metadata": {},
     "output_type": "execute_result"
    }
   ],
   "source": [
    "df = pd.DataFrame(data, columns=['main_category', 'goal'])\n",
    "df1 = pd.DataFrame(data, columns=['main_category', 'pledged', 'goal'])\n",
    "\n",
    "df['percent'] = (df['goal'] / df['goal'].sum()) * 100\n",
    "#df\n",
    "df1['percent'] = (df1['pledged'] / df1['goal']) * 100\n",
    "\n",
    "percentage = df1.sort_values(['main_category', 'percent'], ascending=False).groupby('main_category').head(5)\n",
    "percentage"
   ]
  },
  {
   "cell_type": "code",
   "execution_count": 4,
   "metadata": {},
   "outputs": [],
   "source": [
    "#average goal\n",
    "#df.mean()"
   ]
  },
  {
   "cell_type": "code",
   "execution_count": 155,
   "metadata": {},
   "outputs": [
    {
     "name": "stdout",
     "output_type": "stream",
     "text": [
      "No     64.6\n",
      "Yes    35.4\n",
      "Name: successful, dtype: float64\n"
     ]
    }
   ],
   "source": [
    "#calculating the amount of successful campaigns\n",
    "\n",
    "def success_total():\n",
    "    def success (campaign):\n",
    "        if campaign[\"state\"] == 'successful':\n",
    "            return \"Yes\"\n",
    "        else:\n",
    "            return \"No\"\n",
    "\n",
    "    data['successful'] = data.apply(success, axis=1)\n",
    "    print(data['successful'].value_counts(sort= False, normalize=True).round(3) * 100)\n",
    "\n",
    "success_total()\n",
    "\n"
   ]
  },
  {
   "cell_type": "code",
   "execution_count": null,
   "metadata": {},
   "outputs": [],
   "source": []
  },
  {
   "cell_type": "code",
   "execution_count": 390,
   "metadata": {},
   "outputs": [
    {
     "data": {
      "text/plain": [
       "<AxesSubplot:title={'center':'Success rate (in percent)'}, xlabel='Category'>"
      ]
     },
     "execution_count": 390,
     "metadata": {},
     "output_type": "execute_result"
    },
    {
     "data": {
      "image/png": "[encoded data removed]",
      "text/plain": [
       "<Figure size 432x288 with 1 Axes>"
      ]
     },
     "metadata": {
      "needs_background": "light"
     },
     "output_type": "display_data"
    }
   ],
   "source": [
    "list_success_rate = []\n",
    "def success_rate():\n",
    "    d_state_clean = data[(data['state'] != 'live') & (data['state'] != 'undefined') & (data['state'] != 'suspended')]\n",
    "    d_cat_count = d_state_clean['main_category'].value_counts(sort= False, normalize=True).round(4) * 100\n",
    "    main_categories = pd.unique(d_state_clean['main_category'])\n",
    "    \n",
    "\n",
    "    for i in main_categories:\n",
    "        state_count_mc = d_state_clean[d_state_clean['main_category'] == i]\n",
    "        camp_success_true = len(state_count_mc[state_count_mc['state'] == 'successful']) # Amount of successful campaigns\n",
    "        camp_success_false = len(state_count_mc[state_count_mc['state'] != 'successful']) # Amount of unsuccessful campaigns\n",
    "        camp_succ_percent = ((camp_success_true / (camp_success_true + camp_success_false)) * 100) # Calculation of percentage of successful campaigns\n",
    "        list_success_rate.append(camp_succ_percent)\n",
    "\n",
    "success_rate()\n",
    "\n",
    "df_cat_success_percentage = pd.DataFrame(columns=[])\n",
    "df_cat_success_percentage['Category'] = main_categories\n",
    "df_cat_success_percentage['Rate of success'] = list_success_rate\n",
    "df_cat_success_percentage.plot.bar(x='Category', y='Rate of success', rot=80, title='Success rate (in percent)')\n",
    "\n",
    "\n"
   ]
  },
  {
   "cell_type": "code",
   "execution_count": 391,
   "metadata": {},
   "outputs": [
    {
     "name": "stderr",
     "output_type": "stream",
     "text": [
      "/var/folders/c0/k61szpwj19x_sfrwsl820gmw0000gn/T/ipykernel_18825/2459485888.py:9: SettingWithCopyWarning: \n",
      "A value is trying to be set on a copy of a slice from a DataFrame.\n",
      "Try using .loc[row_indexer,col_indexer] = value instead\n",
      "\n",
      "See the caveats in the documentation: https://pandas.pydata.org/pandas-docs/stable/user_guide/indexing.html#returning-a-view-versus-a-copy\n",
      "  d_state_total['tf'] = d_state_total.apply(success, axis=1)\n",
      "/var/folders/c0/k61szpwj19x_sfrwsl820gmw0000gn/T/ipykernel_18825/2459485888.py:12: SettingWithCopyWarning: \n",
      "A value is trying to be set on a copy of a slice from a DataFrame.\n",
      "Try using .loc[row_indexer,col_indexer] = value instead\n",
      "\n",
      "See the caveats in the documentation: https://pandas.pydata.org/pandas-docs/stable/user_guide/indexing.html#returning-a-view-versus-a-copy\n",
      "  d_state_total.loc[is_successful, 'ft'] = 'successful'\n"
     ]
    },
    {
     "data": {
      "text/plain": [
       "<AxesSubplot:>"
      ]
     },
     "execution_count": 391,
     "metadata": {},
     "output_type": "execute_result"
    },
    {
     "data": {
      "image/png": "[encoded data removed]",
      "text/plain": [
       "<Figure size 432x288 with 1 Axes>"
      ]
     },
     "metadata": {
      "needs_background": "light"
     },
     "output_type": "display_data"
    }
   ],
   "source": [
    "d_state_total = data[(data['state'] != 'live') & (data['state'] != 'undefined') & (data['state'] != 'suspended')]\n",
    "\n",
    "def success (campain_success):\n",
    "    if campain_success['state'] == 'successful':\n",
    "        return 'successful'\n",
    "    else:\n",
    "        return 'failed'\n",
    "\n",
    "d_state_total['tf'] = d_state_total.apply(success, axis=1)\n",
    "is_successful = d_state_total['state'] == 'successful'\n",
    "is_failed = d_state_total['state'] == 'failed'\n",
    "d_state_total.loc[is_successful, 'ft'] = 'successful'\n",
    "d_state_total.loc[is_failed, 'ft'] = 'failed'\n",
    "pd.crosstab(d_state_total['tf'], d_state_total['ft']) # Prints out crosstab for verification\n",
    "d_state_total['tf'].value_counts().plot.bar() # Prints amount of successful v unsuccessful campaigns"
   ]
  },
  {
   "cell_type": "code",
   "execution_count": 392,
   "metadata": {},
   "outputs": [
    {
     "name": "stdout",
     "output_type": "stream",
     "text": [
      "62858.52414691943\n",
      "(4, 'usd_goal_real') nan\n",
      "       main_category  backers country  usd_pledged_real  usd_goal_real\n",
      "157270        Design    78471      US       20338986.27       500000.0\n",
      "250254        Design    62642      US       13285226.36        50000.0\n",
      "216629        Design    66673      US       12779843.49      1000000.0\n",
      "289915         Games    19264      US       12393139.69       100000.0\n",
      "282416        Design    68929      US       10266845.74       100000.0\n",
      "293861        Design    44949      US        9192055.66        20000.0\n",
      "187652         Games   219382      US        8782571.99        10000.0\n",
      "6665           Games    63416      US        8596474.58       950000.0\n",
      "309630         Games    43733      US        7072757.00        40000.0\n",
      "271276        Design    26359      US        6565782.50       500000.0\n"
     ]
    },
    {
     "name": "stderr",
     "output_type": "stream",
     "text": [
      "/var/folders/c0/k61szpwj19x_sfrwsl820gmw0000gn/T/ipykernel_18825/1512758176.py:13: RuntimeWarning: invalid value encountered in double_scalars\n",
      "  invest_average_i = invest_sum_i / (len(invest[invest['main_category'] == i]))\n"
     ]
    }
   ],
   "source": [
    "# Dropping all data of unsucessful or running campaigns and anonymising data to avoid bias\n",
    "\n",
    "invest_clean = data.drop(data[data.state != 'successful'].index)\n",
    "invest = invest_clean.drop(['deadline', 'name', 'ID', 'currency', 'launched', 'state', 'goal', 'pledged', 'usd pledged', 'category', 'successful'], axis=1)\n",
    "\n",
    "# Average sum pledged in USD per project (example: Design)\n",
    "invest_sum_design = invest.loc[(invest['main_category'] == 'Design'), 'usd_pledged_real'].sum()\n",
    "print(invest_sum_design / (len(invest[invest['main_category'] == 'Design'])))\n",
    "\n",
    "# Generalised approach of previous average per project\n",
    "for i in enumerate(invest):\n",
    "    invest_sum_i = invest.loc[(invest['main_category'] == i), 'usd_pledged_real'].sum()\n",
    "    invest_average_i = invest_sum_i / (len(invest[invest['main_category'] == i]))\n",
    "    \n",
    "else:\n",
    "    print(i, invest_average_i)\n",
    "\n",
    "highest = invest.sort_values(\"usd_pledged_real\", ascending=False)\n",
    "print(highest.head(n=10))\n",
    "\n",
    "\n",
    "#pd.crosstab(data[\"main_category\"], data[\"usd_pledged_real\"], normalize=\"index\").plot.bar()\n"
   ]
  },
  {
   "cell_type": "code",
   "execution_count": 393,
   "metadata": {},
   "outputs": [
    {
     "data": {
      "image/png": "[encoded data removed]",
      "text/plain": [
       "<Figure size 432x288 with 1 Axes>"
      ]
     },
     "metadata": {},
     "output_type": "display_data"
    }
   ],
   "source": [
    "# Pie chart for percentage of categories\n",
    "def cat_percentage():\n",
    "    df_mc = pd.DataFrame(data, columns=['main_category'])\n",
    "    df_mc_len = len(df_mc)\n",
    "    df_mc_perc = df_mc['main_category'].value_counts(sort=True, ascending=True) / df_mc_len\n",
    "    df_mc_perc.plot.pie()\n",
    "\n",
    "cat_percentage()\n"
   ]
  },
  {
   "cell_type": "code",
   "execution_count": 394,
   "metadata": {},
   "outputs": [
    {
     "data": {
      "text/plain": [
       "<AxesSubplot:title={'center':'Total revenue of each category (in billions)'}, xlabel='Category'>"
      ]
     },
     "execution_count": 394,
     "metadata": {},
     "output_type": "execute_result"
    },
    {
     "data": {
      "image/png": "[encoded data removed]",
      "text/plain": [
       "<Figure size 432x288 with 1 Axes>"
      ]
     },
     "metadata": {
      "needs_background": "light"
     },
     "output_type": "display_data"
    }
   ],
   "source": [
    "# Pie chart for percentage of revenue\n",
    "\n",
    "df_mc_revenue = pd.DataFrame(data, columns=['main_category','pledged'])\n",
    "main_categories = pd.unique(df_mc_revenue['main_category'])\n",
    "df_rev = pd.DataFrame(columns=['category'])\n",
    "list_pledged=[]\n",
    "\n",
    "def revenue():\n",
    "    for i in main_categories:\n",
    "        df_revenue_total = df_mc_revenue['pledged'].sum\n",
    "        df_mc_revenue_acc = df_mc_revenue.loc[df_mc_revenue['main_category'] == i, 'pledged'].sum()\n",
    "        list_pledged.append(df_mc_revenue_acc)\n",
    "revenue()\n",
    "\n",
    "enumerated_cat = pd.unique(df_mc_revenue['main_category'])\n",
    "\n",
    "df_rev = pd.DataFrame(columns=[])\n",
    "df_rev['Category'] = pd.unique(df_mc_revenue['main_category'])\n",
    "df_rev['Pledged'] = list_pledged\n",
    "df_rev.plot.bar(x=\"Category\", y=\"Pledged\", rot=80, title=\"Total revenue of each category (in billions)\")\n",
    "\n"
   ]
  },
  {
   "cell_type": "code",
   "execution_count": 395,
   "metadata": {},
   "outputs": [
    {
     "name": "stdout",
     "output_type": "stream",
     "text": [
      "   main_category     goal   percent\n",
      "0     Publishing   1000.0  0.000005\n",
      "10    Publishing   2500.0  0.000013\n",
      "17    Publishing   3000.0  0.000016\n",
      "40    Publishing   3000.0  0.000016\n",
      "56    Publishing  13500.0  0.000073\n",
      "   main_category     goal   percent\n",
      "1   Film & Video  30000.0  0.000161\n",
      "2   Film & Video  45000.0  0.000242\n",
      "4   Film & Video  19500.0  0.000105\n",
      "9   Film & Video  65000.0  0.000350\n",
      "27  Film & Video  17757.0  0.000096\n",
      "   main_category     goal   percent\n",
      "3          Music   5000.0  0.000027\n",
      "11         Music  12500.0  0.000067\n",
      "18         Music    250.0  0.000001\n",
      "25         Music  10000.0  0.000054\n",
      "34         Music  12000.0  0.000065\n",
      "   main_category     goal   percent\n",
      "5           Food  50000.0  0.000269\n",
      "6           Food   1000.0  0.000005\n",
      "7           Food  25000.0  0.000135\n",
      "19          Food   5000.0  0.000027\n",
      "23          Food    500.0  0.000003\n",
      "   main_category      goal   percent\n",
      "8         Design  125000.0  0.000673\n",
      "15        Design    2500.0  0.000013\n",
      "31        Design    1000.0  0.000005\n",
      "32        Design    2000.0  0.000011\n",
      "68        Design   15000.0  0.000081\n",
      "    main_category     goal   percent\n",
      "12         Crafts   5000.0  0.000027\n",
      "26         Crafts  12000.0  0.000065\n",
      "69         Crafts   5000.0  0.000027\n",
      "225        Crafts   7000.0  0.000038\n",
      "295        Crafts    250.0  0.000001\n",
      "   main_category      goal   percent\n",
      "13         Games  200000.0  0.001076\n",
      "14         Games    5000.0  0.000027\n",
      "43         Games    1500.0  0.000008\n",
      "48         Games    3000.0  0.000016\n",
      "59         Games   25000.0  0.000135\n",
      "   main_category    goal       percent\n",
      "16        Comics  1500.0  8.071033e-06\n",
      "24        Comics   175.0  9.416205e-07\n",
      "28        Comics   100.0  5.380689e-07\n",
      "85        Comics  4000.0  2.152275e-05\n",
      "91        Comics  4289.0  2.307777e-05\n",
      "   main_category     goal   percent\n",
      "20       Fashion  20000.0  0.000108\n",
      "21       Fashion   2500.0  0.000013\n",
      "61       Fashion  12000.0  0.000065\n",
      "76       Fashion  68000.0  0.000366\n",
      "80       Fashion   2000.0  0.000011\n",
      "   main_category     goal   percent\n",
      "22       Theater   3500.0  0.000019\n",
      "66       Theater  15000.0  0.000081\n",
      "77       Theater   7500.0  0.000040\n",
      "87       Theater   5000.0  0.000027\n",
      "92       Theater   2000.0  0.000011\n",
      "   main_category     goal   percent\n",
      "33           Art  25000.0  0.000135\n",
      "38           Art   3000.0  0.000016\n",
      "49           Art   1200.0  0.000006\n",
      "52           Art   7500.0  0.000040\n",
      "62           Art   5000.0  0.000027\n",
      "    main_category     goal   percent\n",
      "42    Photography  15000.0  0.000081\n",
      "51    Photography   9500.0  0.000051\n",
      "53    Photography   4000.0  0.000022\n",
      "125   Photography   3200.0  0.000017\n",
      "140   Photography   1000.0  0.000005\n",
      "   main_category      goal   percent\n",
      "65    Technology   50000.0  0.000269\n",
      "67    Technology    2000.0  0.000011\n",
      "70    Technology   87000.0  0.000468\n",
      "71    Technology  100000.0  0.000538\n",
      "98    Technology   25000.0  0.000135\n",
      "    main_category    goal   percent\n",
      "122         Dance  3400.0  0.000018\n",
      "233         Dance  1200.0  0.000006\n",
      "253         Dance   450.0  0.000002\n",
      "264         Dance  1500.0  0.000008\n",
      "350         Dance  3000.0  0.000016\n",
      "    main_category     goal       percent\n",
      "197    Journalism  10000.0  5.380689e-05\n",
      "304    Journalism   1500.0  8.071033e-06\n",
      "398    Journalism   1287.0  6.924946e-06\n",
      "447    Journalism   2500.0  1.345172e-05\n",
      "625    Journalism    160.0  8.609102e-07\n"
     ]
    }
   ],
   "source": [
    "df2 = pd.DataFrame(data, columns=['main_category', 'goal', 'pledged'])\n",
    "\n",
    "#list theater values\n",
    "#theater = df2.loc[df2['main_category'] == 'Theater']\n",
    "\n",
    "categories = pd.unique(df2['main_category'])\n",
    "\n",
    "# list amount of projects of each unique main_category\n",
    "pd.value_counts(df2['main_category']) \n",
    "sum_total = df2['goal'].sum()\n",
    "\n",
    "for i in categories:\n",
    "    df_i = df[df['main_category']==i]\n",
    "    #shows total funding for each category\n",
    "    #print (i, df_i['goal'].sum()) \n",
    "    df3 = (df_i['goal'].sum() / sum_total) * 100\n",
    "    df4 = (i, df3.round(2))\n",
    "    df5 = df3.round(0)\n",
    "    #print (df4)\n",
    "    print(df_i.head())\n",
    "\n",
    "    #df6 = pd.DataFrame(i, df5)\n",
    "    #df6.columns =['Main Category', 'Percentage']\n",
    "    #print(df6)\n",
    "\n"
   ]
  },
  {
   "cell_type": "code",
   "execution_count": 396,
   "metadata": {},
   "outputs": [
    {
     "name": "stdout",
     "output_type": "stream",
     "text": [
      "success\n",
      "revenue\n",
      "cat_percentage\n",
      "success_rate\n",
      "success_total\n"
     ]
    }
   ],
   "source": [
    "\n",
    " for i in [f.__name__ for f in globals().values() if type(f) == type(lambda *args: None)]:\n",
    "     print(i)\n",
    "\n",
    "\n"
   ]
  }
 ],
 "metadata": {
  "interpreter": {
   "hash": "31f2aee4e71d21fbe5cf8b01ff0e069b9275f58929596ceb00d14d90e3e16cd6"
  },
  "kernelspec": {
   "display_name": "Python 3.8.9 64-bit",
   "language": "python",
   "name": "python3"
  },
  "language_info": {
   "codemirror_mode": {
    "name": "ipython",
    "version": 3
   },
   "file_extension": ".py",
   "mimetype": "text/x-python",
   "name": "python",
   "nbconvert_exporter": "python",
   "pygments_lexer": "ipython3",
   "version": "3.8.9"
  }
 },
 "nbformat": 4,
 "nbformat_minor": 2
}
